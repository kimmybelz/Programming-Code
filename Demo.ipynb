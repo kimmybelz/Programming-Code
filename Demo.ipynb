{
  "nbformat": 4,
  "nbformat_minor": 0,
  "metadata": {
    "colab": {
      "name": "Demo.ipynb",
      "provenance": [],
      "authorship_tag": "ABX9TyObft4e/q95LSEka+u1vUk7",
      "include_colab_link": true
    },
    "kernelspec": {
      "name": "python3",
      "display_name": "Python 3"
    },
    "language_info": {
      "name": "python"
    }
  },
  "cells": [
    {
      "cell_type": "markdown",
      "metadata": {
        "id": "view-in-github",
        "colab_type": "text"
      },
      "source": [
        "<a href=\"https://colab.research.google.com/github/kimmybelz/Programming-Code/blob/main/Demo.ipynb\" target=\"_parent\"><img src=\"https://colab.research.google.com/assets/colab-badge.svg\" alt=\"Open In Colab\"/></a>"
      ]
    },
    {
      "cell_type": "markdown",
      "source": [
        "###Intro to Python Programming"
      ],
      "metadata": {
        "id": "jDo-PoUfmOBt"
      }
    },
    {
      "cell_type": "code",
      "source": [
        "#Python Indention\n",
        "if 5>2:\n",
        "  print(\"Five is greater than two\")"
      ],
      "metadata": {
        "colab": {
          "base_uri": "https://localhost:8080/"
        },
        "id": "gPt4K8BemT7h",
        "outputId": "451c5429-8ff7-4867-f8f8-632f95c724de"
      },
      "execution_count": 1,
      "outputs": [
        {
          "output_type": "stream",
          "name": "stdout",
          "text": [
            "Five is greater than two\n"
          ]
        }
      ]
    },
    {
      "cell_type": "markdown",
      "source": [
        "###Python Variable"
      ],
      "metadata": {
        "id": "xOoYTEK8maMY"
      }
    },
    {
      "cell_type": "code",
      "source": [
        "x = 1\n",
        "a, b = 0, 1\n",
        "a,b,c= 0,1,2\n",
        "print(x)\n",
        "print(a)\n",
        "print(b)\n",
        "print(c)"
      ],
      "metadata": {
        "colab": {
          "base_uri": "https://localhost:8080/"
        },
        "id": "J_p2J8GOmdaG",
        "outputId": "8bbb25ac-05b4-42e6-fd46-51aa2d8cdf85"
      },
      "execution_count": 2,
      "outputs": [
        {
          "output_type": "stream",
          "name": "stdout",
          "text": [
            "1\n",
            "0\n",
            "1\n",
            "2\n"
          ]
        }
      ]
    },
    {
      "cell_type": "code",
      "source": [
        "d = \"Sally\" #This is a string\n",
        "D = \"Ana\"\n",
        "print(d)\n",
        "e= 'John'\n",
        "print(e)\n",
        "print(D)"
      ],
      "metadata": {
        "colab": {
          "base_uri": "https://localhost:8080/"
        },
        "id": "gTc57KJbmth_",
        "outputId": "e9704ccf-1b1c-4f22-b9fa-1338d565b3a6"
      },
      "execution_count": 3,
      "outputs": [
        {
          "output_type": "stream",
          "name": "stdout",
          "text": [
            "Sally\n",
            "John\n",
            "Ana\n"
          ]
        }
      ]
    },
    {
      "cell_type": "markdown",
      "source": [
        "###Casting"
      ],
      "metadata": {
        "id": "rW8A_aqknIDo"
      }
    },
    {
      "cell_type": "code",
      "source": [
        "f = float(4)\n",
        "print(f)\n",
        "g = int(5)\n",
        "print(g)"
      ],
      "metadata": {
        "colab": {
          "base_uri": "https://localhost:8080/"
        },
        "id": "ZTw9BlfTnKhL",
        "outputId": "d19d72b5-728a-4e60-de38-350ceb3b48fd"
      },
      "execution_count": 4,
      "outputs": [
        {
          "output_type": "stream",
          "name": "stdout",
          "text": [
            "4.0\n",
            "5\n"
          ]
        }
      ]
    },
    {
      "cell_type": "markdown",
      "source": [
        "###Multiple Variables with One Value"
      ],
      "metadata": {
        "id": "JBXW6NLknR4y"
      }
    },
    {
      "cell_type": "code",
      "source": [
        "x = y = z = \"four\"\n",
        "print(x)\n",
        "print(y)\n",
        "print(z)"
      ],
      "metadata": {
        "colab": {
          "base_uri": "https://localhost:8080/"
        },
        "id": "mF-jIGeDnTcE",
        "outputId": "19501c07-528c-4ec7-8490-aab7430858da"
      },
      "execution_count": 5,
      "outputs": [
        {
          "output_type": "stream",
          "name": "stdout",
          "text": [
            "four\n",
            "four\n",
            "four\n"
          ]
        }
      ]
    },
    {
      "cell_type": "code",
      "source": [
        "x = \"enjoying\"\n",
        "print(\"Python Programming is\" \" \" + x)"
      ],
      "metadata": {
        "colab": {
          "base_uri": "https://localhost:8080/"
        },
        "id": "zyBW7JzrnbBD",
        "outputId": "974751d3-6ff5-49d0-aaf4-75cd8ebdd7d6"
      },
      "execution_count": 6,
      "outputs": [
        {
          "output_type": "stream",
          "name": "stdout",
          "text": [
            "Python Programming is enjoying\n"
          ]
        }
      ]
    },
    {
      "cell_type": "markdown",
      "source": [
        "###Operation in Python"
      ],
      "metadata": {
        "id": "Rgxg_816nfoL"
      }
    },
    {
      "cell_type": "code",
      "source": [
        "x = 5\n",
        "y = 7\n",
        "print(x+y)\n",
        "print(x*y)\n",
        "print(x)"
      ],
      "metadata": {
        "colab": {
          "base_uri": "https://localhost:8080/"
        },
        "id": "0G3KywTSng86",
        "outputId": "0eba439a-b898-4e22-a3b4-d805489bca3c"
      },
      "execution_count": 7,
      "outputs": [
        {
          "output_type": "stream",
          "name": "stdout",
          "text": [
            "12\n",
            "35\n",
            "5\n"
          ]
        }
      ]
    }
  ]
}